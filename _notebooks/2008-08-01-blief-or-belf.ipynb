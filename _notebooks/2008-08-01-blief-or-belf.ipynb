{
 "cells": [
  {
   "cell_type": "markdown",
   "metadata": {},
   "source": [
    "# blief in belf\n",
    "> believe it or not\n",
    "\n",
    "- toc: false \n",
    "- badges: true\n",
    "- comments: true\n",
    "- author: CF\n",
    "- categories: [ belief, lïf, good, göd ]\n",
    "- image: images/2008-08-01-blief-or-belf.jpg\n",
    "- title: blief or belf  "
   ]
  },
  {
   "cell_type": "markdown",
   "metadata": {},
   "source": [
    "I encountered this on my YouTube browsing, a rendering of [Penn Jillette's contribution to the NPR show, _This I Believe_](https://www.npr.org/2005/11/21/5015557/there-is-no-god):   "
   ]
  },
  {
   "cell_type": "markdown",
   "metadata": {},
   "source": [
    "> youtube: http://www.youtube.com/watch?v=U0hJRM8Xzvo"
   ]
  },
  {
   "cell_type": "markdown",
   "metadata": {},
   "source": [
    "It seems interesting but not particularly compelling to redirect a rational ambivalence toward the existence of God to a concerned belief in his non-existence. It's a seemingly subtle twist to transition from \"I do not believe in God\" to \"I believe there is no God\".  The former allows me to pursue other more interesting beliefs and frees me from a long and unnecessary argument which the latter seems destined to encourage.  That is not to suggest it's an  uninteresting or valueless argument or that I begin avoiding beliefs which are too cumbersome or uncomfortable to carry; only that in this case, it's unnecessary.    \n",
    "    \n",
    "I care that good exists, and I believe that it does.  My \"I do not believe in God\" belief leads me to believe that good is evolved, that it's changing and permeable and that it's not absolute.  A subjective good makes sense to me, is supported by defensible arguments, and has the same doorway as Mr. Jillette's belief into a world with less suffering.  Mr. Jillette's belief strikes me not as inherently wrong or problematic, save that it seems one more step before the question of good, which is the only question that will get us closer to the problem of suffering. "
   ]
  }
 ],
 "metadata": {
  "kernelspec": {
   "display_name": "Python 3",
   "language": "python",
   "name": "python3"
  },
  "language_info": {
   "codemirror_mode": {
    "name": "ipython",
    "version": 3
   },
   "file_extension": ".py",
   "mimetype": "text/x-python",
   "name": "python",
   "nbconvert_exporter": "python",
   "pygments_lexer": "ipython3",
   "version": "3.8.3"
  }
 },
 "nbformat": 4,
 "nbformat_minor": 2
}
